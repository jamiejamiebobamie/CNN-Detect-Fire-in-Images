{
 "cells": [
  {
   "cell_type": "code",
   "execution_count": 111,
   "metadata": {},
   "outputs": [],
   "source": [
    "import glob\n",
    "files = glob.glob(\"Fire images/*.*\")\n",
    "ls_fire = []\n",
    "for i in files:\n",
    "#     print([i.split(\"/\")[1], '0'])\n",
    "    ls_fire.append(['Fire images', i.split(\"/\")[1], '1'])"
   ]
  },
  {
   "cell_type": "code",
   "execution_count": 112,
   "metadata": {},
   "outputs": [],
   "source": [
    "import pandas as pd\n",
    "\n",
    "df_fire = pd.DataFrame(ls_fire, columns=['Folder', 'filename', 'label'])"
   ]
  },
  {
   "cell_type": "code",
   "execution_count": 113,
   "metadata": {},
   "outputs": [
    {
     "data": {
      "text/html": [
       "<div>\n",
       "<style scoped>\n",
       "    .dataframe tbody tr th:only-of-type {\n",
       "        vertical-align: middle;\n",
       "    }\n",
       "\n",
       "    .dataframe tbody tr th {\n",
       "        vertical-align: top;\n",
       "    }\n",
       "\n",
       "    .dataframe thead th {\n",
       "        text-align: right;\n",
       "    }\n",
       "</style>\n",
       "<table border=\"1\" class=\"dataframe\">\n",
       "  <thead>\n",
       "    <tr style=\"text-align: right;\">\n",
       "      <th></th>\n",
       "      <th>Folder</th>\n",
       "      <th>filename</th>\n",
       "      <th>label</th>\n",
       "    </tr>\n",
       "  </thead>\n",
       "  <tbody>\n",
       "    <tr>\n",
       "      <th>0</th>\n",
       "      <td>Fire images</td>\n",
       "      <td>dsc_01001.jpg</td>\n",
       "      <td>1</td>\n",
       "    </tr>\n",
       "    <tr>\n",
       "      <th>1</th>\n",
       "      <td>Fire images</td>\n",
       "      <td>burning-charcoal-briquettes.jpg</td>\n",
       "      <td>1</td>\n",
       "    </tr>\n",
       "    <tr>\n",
       "      <th>2</th>\n",
       "      <td>Fire images</td>\n",
       "      <td>Chimney-Fire3.jpg</td>\n",
       "      <td>1</td>\n",
       "    </tr>\n",
       "    <tr>\n",
       "      <th>3</th>\n",
       "      <td>Fire images</td>\n",
       "      <td>canada-wildfire.jpg</td>\n",
       "      <td>1</td>\n",
       "    </tr>\n",
       "    <tr>\n",
       "      <th>4</th>\n",
       "      <td>Fire images</td>\n",
       "      <td>Living_Room_Camp_Fire.jpg</td>\n",
       "      <td>1</td>\n",
       "    </tr>\n",
       "  </tbody>\n",
       "</table>\n",
       "</div>"
      ],
      "text/plain": [
       "        Folder                         filename label\n",
       "0  Fire images                    dsc_01001.jpg     1\n",
       "1  Fire images  burning-charcoal-briquettes.jpg     1\n",
       "2  Fire images                Chimney-Fire3.jpg     1\n",
       "3  Fire images              canada-wildfire.jpg     1\n",
       "4  Fire images        Living_Room_Camp_Fire.jpg     1"
      ]
     },
     "execution_count": 113,
     "metadata": {},
     "output_type": "execute_result"
    }
   ],
   "source": [
    "df_fire.head()"
   ]
  },
  {
   "cell_type": "code",
   "execution_count": 114,
   "metadata": {},
   "outputs": [
    {
     "data": {
      "text/plain": [
       "110"
      ]
     },
     "execution_count": 114,
     "metadata": {},
     "output_type": "execute_result"
    }
   ],
   "source": [
    "len(df_fire)"
   ]
  },
  {
   "cell_type": "code",
   "execution_count": 115,
   "metadata": {},
   "outputs": [
    {
     "data": {
      "text/plain": [
       "0"
      ]
     },
     "execution_count": 115,
     "metadata": {},
     "output_type": "execute_result"
    }
   ],
   "source": [
    "df_fire['filename'].duplicated().sum()"
   ]
  },
  {
   "cell_type": "code",
   "execution_count": 116,
   "metadata": {},
   "outputs": [
    {
     "data": {
      "text/plain": [
       "'dsc_01001.jpg'"
      ]
     },
     "execution_count": 116,
     "metadata": {},
     "output_type": "execute_result"
    }
   ],
   "source": [
    "df_fire['filename'][0]"
   ]
  },
  {
   "cell_type": "code",
   "execution_count": 117,
   "metadata": {},
   "outputs": [
    {
     "data": {
      "text/plain": [
       "'Fire images'"
      ]
     },
     "execution_count": 117,
     "metadata": {},
     "output_type": "execute_result"
    }
   ],
   "source": [
    "df_fire['Folder'][0]"
   ]
  },
  {
   "cell_type": "code",
   "execution_count": 118,
   "metadata": {},
   "outputs": [
    {
     "name": "stdout",
     "output_type": "stream",
     "text": [
      "(3872, 2592)\n"
     ]
    }
   ],
   "source": [
    "from PIL import Image\n",
    "from keras.preprocessing.image import img_to_array\n",
    "\n",
    "img = Image.open('{}/{}'.format(df_fire['Folder'][0], df_fire['filename'][0]))\n",
    "print(img.size)\n",
    "image_red = img.resize((1024, 1024))\n",
    "image = img_to_array(image_red)"
   ]
  },
  {
   "cell_type": "code",
   "execution_count": 119,
   "metadata": {},
   "outputs": [
    {
     "data": {
      "text/plain": [
       "array([[[ 70.,  25.,   2.],\n",
       "        [ 69.,  27.,   3.],\n",
       "        [ 67.,  26.,   0.],\n",
       "        ...,\n",
       "        [ 83.,  39.,  10.],\n",
       "        [ 82.,  37.,   8.],\n",
       "        [ 84.,  38.,   5.]],\n",
       "\n",
       "       [[ 70.,  26.,   1.],\n",
       "        [ 68.,  26.,   1.],\n",
       "        [ 67.,  25.,   1.],\n",
       "        ...,\n",
       "        [ 82.,  38.,  13.],\n",
       "        [ 77.,  32.,   0.],\n",
       "        [ 82.,  37.,   4.]],\n",
       "\n",
       "       [[ 70.,  26.,   1.],\n",
       "        [ 71.,  29.,   4.],\n",
       "        [ 70.,  29.,   1.],\n",
       "        ...,\n",
       "        [ 86.,  40.,  16.],\n",
       "        [ 78.,  33.,   2.],\n",
       "        [ 79.,  34.,   3.]],\n",
       "\n",
       "       ...,\n",
       "\n",
       "       [[ 24.,  16.,  13.],\n",
       "        [ 26.,  18.,  15.],\n",
       "        [ 28.,  20.,  17.],\n",
       "        ...,\n",
       "        [116.,  76.,  41.],\n",
       "        [115.,  72.,  27.],\n",
       "        [117.,  70.,  18.]],\n",
       "\n",
       "       [[ 26.,  18.,  15.],\n",
       "        [ 29.,  21.,  18.],\n",
       "        [ 32.,  25.,  19.],\n",
       "        ...,\n",
       "        [101.,  66.,  36.],\n",
       "        [ 92.,  55.,  10.],\n",
       "        [ 95.,  57.,   8.]],\n",
       "\n",
       "       [[ 32.,  24.,  21.],\n",
       "        [ 28.,  20.,  17.],\n",
       "        [ 32.,  24.,  21.],\n",
       "        ...,\n",
       "        [ 97.,  66.,  35.],\n",
       "        [ 93.,  55.,   6.],\n",
       "        [ 96.,  59.,  14.]]], dtype=float32)"
      ]
     },
     "execution_count": 119,
     "metadata": {},
     "output_type": "execute_result"
    }
   ],
   "source": [
    "image"
   ]
  },
  {
   "cell_type": "markdown",
   "metadata": {},
   "source": [
    "### Merge dfs"
   ]
  },
  {
   "cell_type": "code",
   "execution_count": null,
   "metadata": {},
   "outputs": [],
   "source": [
    "import numpy as np\n",
    "\n",
    "#Split df into train and test based on label column\n",
    "df_train\n",
    "df_test\n",
    "\n",
    "def data_gen(df, batch_size):\n",
    "    while True:\n",
    "        x_batch = np.zeros((batch_size, 3, 1024, 1024))\n",
    "        y_batch = np.zeros((batch_size, 1))\n",
    "        for j in range(len(df/batch_size)):\n",
    "            b = 0\n",
    "            for m, k in zip(df['filename'].values[j*batch_size:(j+1)*batch_size], df['label'].values[j*batch_size:(j+1)*batch_size]):\n",
    "                img = Image.open('{}/{}'.format(df['Folder'][b], m))\n",
    "                image_red = img.resize((1024, 1024))\n",
    "                x_batch[b] = img_to_array(image_red)\n",
    "                y_batch[b] = k\n",
    "                b += 1\n",
    "            yield (x_batch, y_batch)\n",
    "\n",
    "\n",
    "model.fit_generator(generator=data_gen(df_train, batch_size=batch_size), steps_per_epoch=len(df_train) // batch_size, epochs=epochs)"
   ]
  }
 ],
 "metadata": {
  "kernelspec": {
   "display_name": "Python 3",
   "language": "python",
   "name": "python3"
  },
  "language_info": {
   "codemirror_mode": {
    "name": "ipython",
    "version": 3
   },
   "file_extension": ".py",
   "mimetype": "text/x-python",
   "name": "python",
   "nbconvert_exporter": "python",
   "pygments_lexer": "ipython3",
   "version": "3.6.5"
  }
 },
 "nbformat": 4,
 "nbformat_minor": 2
}
